{
  "nbformat": 4,
  "nbformat_minor": 0,
  "metadata": {
    "colab": {
      "provenance": [],
      "authorship_tag": "ABX9TyMvDL21rSKfY0OyBSSVY6eC",
      "include_colab_link": true
    },
    "kernelspec": {
      "name": "python3",
      "display_name": "Python 3"
    },
    "language_info": {
      "name": "python"
    }
  },
  "cells": [
    {
      "cell_type": "markdown",
      "metadata": {
        "id": "view-in-github",
        "colab_type": "text"
      },
      "source": [
        "<a href=\"https://colab.research.google.com/github/anthrofax/artificial-intelligence/blob/main/UAS_AI.ipynb\" target=\"_parent\"><img src=\"https://colab.research.google.com/assets/colab-badge.svg\" alt=\"Open In Colab\"/></a>"
      ]
    },
    {
      "cell_type": "code",
      "execution_count": 32,
      "metadata": {
        "id": "-gOGqVHlt6Ja",
        "colab": {
          "base_uri": "https://localhost:8080/"
        },
        "outputId": "9002a8d6-3418-4642-b61b-b245c594fcfd"
      },
      "outputs": [
        {
          "output_type": "stream",
          "name": "stderr",
          "text": [
            "[nltk_data] Downloading package punkt to /root/nltk_data...\n",
            "[nltk_data]   Package punkt is already up-to-date!\n",
            "[nltk_data] Downloading package stopwords to /root/nltk_data...\n",
            "[nltk_data]   Package stopwords is already up-to-date!\n"
          ]
        }
      ],
      "source": [
        "import nltk\n",
        "nltk.download('punkt')\n",
        "nltk.download('stopwords')\n",
        "\n",
        "from nltk.tokenize import word_tokenize\n",
        "from nltk.corpus import stopwords\n",
        "\n",
        "\n",
        "# Fungsi untuk melakukan tokenisasi dan penghapusan stopwords\n",
        "def preprocess_text(text):\n",
        "  # Tokenisasi\n",
        "  tokens = word_tokenize(text.lower())\n",
        "\n",
        "  # Penghapusan stopwords\n",
        "  stop_words = set(stopwords.words('indonesian'))\n",
        "  filtered_tokens = [word for word in tokens if word.isalnum() and word not in stop_words]\n",
        "\n",
        "  return filtered_tokens"
      ]
    },
    {
      "cell_type": "code",
      "source": [
        "words = preprocess_text('Apa definisi dari istilah MSIB?')\n",
        "\n",
        "print(words)"
      ],
      "metadata": {
        "colab": {
          "base_uri": "https://localhost:8080/"
        },
        "id": "TFc7nyVrusWk",
        "outputId": "50c71fe7-8571-4490-f5fc-cf0dcd8baec9"
      },
      "execution_count": 33,
      "outputs": [
        {
          "output_type": "stream",
          "name": "stdout",
          "text": [
            "['definisi', 'istilah', 'msib']\n"
          ]
        }
      ]
    },
    {
      "cell_type": "code",
      "source": [
        "# Import modul yang diperlukan\n",
        "!pip install Sastrawi\n",
        "\n",
        "from Sastrawi.Stemmer.StemmerFactory import StemmerFactory\n",
        "from nltk.stem import WordNetLemmatizer\n",
        "\n",
        "nltk.download('wordnet')\n",
        "\n",
        "# Inisialisasi stemmer dan lemmatizer\n",
        "stemmer = StemmerFactory().create_stemmer()\n",
        "lemmatizer = WordNetLemmatizer()"
      ],
      "metadata": {
        "colab": {
          "base_uri": "https://localhost:8080/"
        },
        "id": "Yw9iERczbnG7",
        "outputId": "26ba0c87-5e11-48b8-ed66-2d3cd19c94c8"
      },
      "execution_count": 34,
      "outputs": [
        {
          "output_type": "stream",
          "name": "stdout",
          "text": [
            "Requirement already satisfied: Sastrawi in /usr/local/lib/python3.10/dist-packages (1.0.1)\n"
          ]
        },
        {
          "output_type": "stream",
          "name": "stderr",
          "text": [
            "[nltk_data] Downloading package wordnet to /root/nltk_data...\n",
            "[nltk_data]   Package wordnet is already up-to-date!\n"
          ]
        }
      ]
    },
    {
      "cell_type": "code",
      "source": [
        "# Stemming (menggunakan Sastrawi) dan Lemmatisasi (WordNetLemmatizer)\n",
        "processed_tokens = [lemmatizer.lemmatize(stemmer.stem(word)) for word in words]\n",
        "\n",
        "print(processed_tokens)\n",
        "\n",
        "# Gabungkan kata-kata yang telah diolah\n",
        "preprocessed_text = ' '.join(processed_tokens)"
      ],
      "metadata": {
        "colab": {
          "base_uri": "https://localhost:8080/"
        },
        "id": "H0LSLUvJYjrh",
        "outputId": "9ca6d50f-eadf-4514-de0c-0ff46a916645"
      },
      "execution_count": 35,
      "outputs": [
        {
          "output_type": "stream",
          "name": "stdout",
          "text": [
            "['definisi', 'istilah', 'msib']\n"
          ]
        }
      ]
    },
    {
      "cell_type": "code",
      "source": [
        "from sklearn.feature_extraction.text import CountVectorizer\n",
        "\n",
        "# Contoh data teks yang telah di-stemming dan di-lemmatisasi\n",
        "processed_texts = [\n",
        "    \"fasilitas tersedia hotel eleven\",\n",
        "    \"apakah fasilitas tersedia hotel eleven\",\n",
        "    \"berapa fasilitas hotel eleven\",\n",
        "    \"hotel eleven menyediakan fasilitas\"\n",
        "]\n",
        "\n",
        "# Inisialisasi objek CountVectorizer untuk melakukan pendekatan Bag of Words\n",
        "vectorizer = CountVectorizer()\n",
        "\n",
        "# Melakukan transformasi teks menjadi representasi Bag of Words\n",
        "X = vectorizer.fit_transform(processed_texts)\n",
        "\n",
        "# Mendapatkan fitur kata yang digunakan dalam Bag of Words\n",
        "feature_names = vectorizer.get_feature_names_out()\n",
        "\n",
        "# Menampilkan representasi Bag of Words dalam bentuk DataFrame\n",
        "import pandas as pd\n",
        "df = pd.DataFrame(X.toarray(), columns=feature_names)\n",
        "# Mengubah nama baris menjadi 'Pertanyaan 1', 'Pertanyaan 2', dst\n",
        "df.index = ['Pertanyaan {}'.format(i+1) for i in range(len(processed_texts))]\n",
        "\n",
        "print(df)"
      ],
      "metadata": {
        "colab": {
          "base_uri": "https://localhost:8080/"
        },
        "id": "1FktWjg8c81z",
        "outputId": "6a3bdc40-d423-4ead-b6ca-447ffaf45492"
      },
      "execution_count": 36,
      "outputs": [
        {
          "output_type": "stream",
          "name": "stdout",
          "text": [
            "              apakah  berapa  eleven  fasilitas  hotel  menyediakan  tersedia\n",
            "Pertanyaan 1       0       0       1          1      1            0         1\n",
            "Pertanyaan 2       1       0       1          1      1            0         1\n",
            "Pertanyaan 3       0       1       1          1      1            0         0\n",
            "Pertanyaan 4       0       0       1          1      1            1         0\n"
          ]
        }
      ]
    },
    {
      "cell_type": "code",
      "source": [
        "# Load dataset\n",
        "df = pd.read_csv('training_info.csv')\n",
        "\n",
        "# Preprocess dataset\n",
        "from sklearn.feature_extraction.text import TfidfVectorizer\n",
        "from sklearn.naive_bayes import MultinomialNB\n",
        "\n",
        "tfidf_vectorizer = TfidfVectorizer()\n",
        "x = tfidf_vectorizer.fit_transform(df['Pertanyaan'])\n",
        "y = df['Jawaban']\n",
        "\n",
        "# Train a classifier\n",
        "classifier = MultinomialNB()\n",
        "classifier.fit(x, y)"
      ],
      "metadata": {
        "colab": {
          "base_uri": "https://localhost:8080/",
          "height": 75
        },
        "id": "hMGTFgbOda9_",
        "outputId": "094fb1d9-8907-4d6c-cb4f-ab578a8c5f06"
      },
      "execution_count": 37,
      "outputs": [
        {
          "output_type": "execute_result",
          "data": {
            "text/plain": [
              "MultinomialNB()"
            ],
            "text/html": [
              "<style>#sk-container-id-3 {color: black;background-color: white;}#sk-container-id-3 pre{padding: 0;}#sk-container-id-3 div.sk-toggleable {background-color: white;}#sk-container-id-3 label.sk-toggleable__label {cursor: pointer;display: block;width: 100%;margin-bottom: 0;padding: 0.3em;box-sizing: border-box;text-align: center;}#sk-container-id-3 label.sk-toggleable__label-arrow:before {content: \"▸\";float: left;margin-right: 0.25em;color: #696969;}#sk-container-id-3 label.sk-toggleable__label-arrow:hover:before {color: black;}#sk-container-id-3 div.sk-estimator:hover label.sk-toggleable__label-arrow:before {color: black;}#sk-container-id-3 div.sk-toggleable__content {max-height: 0;max-width: 0;overflow: hidden;text-align: left;background-color: #f0f8ff;}#sk-container-id-3 div.sk-toggleable__content pre {margin: 0.2em;color: black;border-radius: 0.25em;background-color: #f0f8ff;}#sk-container-id-3 input.sk-toggleable__control:checked~div.sk-toggleable__content {max-height: 200px;max-width: 100%;overflow: auto;}#sk-container-id-3 input.sk-toggleable__control:checked~label.sk-toggleable__label-arrow:before {content: \"▾\";}#sk-container-id-3 div.sk-estimator input.sk-toggleable__control:checked~label.sk-toggleable__label {background-color: #d4ebff;}#sk-container-id-3 div.sk-label input.sk-toggleable__control:checked~label.sk-toggleable__label {background-color: #d4ebff;}#sk-container-id-3 input.sk-hidden--visually {border: 0;clip: rect(1px 1px 1px 1px);clip: rect(1px, 1px, 1px, 1px);height: 1px;margin: -1px;overflow: hidden;padding: 0;position: absolute;width: 1px;}#sk-container-id-3 div.sk-estimator {font-family: monospace;background-color: #f0f8ff;border: 1px dotted black;border-radius: 0.25em;box-sizing: border-box;margin-bottom: 0.5em;}#sk-container-id-3 div.sk-estimator:hover {background-color: #d4ebff;}#sk-container-id-3 div.sk-parallel-item::after {content: \"\";width: 100%;border-bottom: 1px solid gray;flex-grow: 1;}#sk-container-id-3 div.sk-label:hover label.sk-toggleable__label {background-color: #d4ebff;}#sk-container-id-3 div.sk-serial::before {content: \"\";position: absolute;border-left: 1px solid gray;box-sizing: border-box;top: 0;bottom: 0;left: 50%;z-index: 0;}#sk-container-id-3 div.sk-serial {display: flex;flex-direction: column;align-items: center;background-color: white;padding-right: 0.2em;padding-left: 0.2em;position: relative;}#sk-container-id-3 div.sk-item {position: relative;z-index: 1;}#sk-container-id-3 div.sk-parallel {display: flex;align-items: stretch;justify-content: center;background-color: white;position: relative;}#sk-container-id-3 div.sk-item::before, #sk-container-id-3 div.sk-parallel-item::before {content: \"\";position: absolute;border-left: 1px solid gray;box-sizing: border-box;top: 0;bottom: 0;left: 50%;z-index: -1;}#sk-container-id-3 div.sk-parallel-item {display: flex;flex-direction: column;z-index: 1;position: relative;background-color: white;}#sk-container-id-3 div.sk-parallel-item:first-child::after {align-self: flex-end;width: 50%;}#sk-container-id-3 div.sk-parallel-item:last-child::after {align-self: flex-start;width: 50%;}#sk-container-id-3 div.sk-parallel-item:only-child::after {width: 0;}#sk-container-id-3 div.sk-dashed-wrapped {border: 1px dashed gray;margin: 0 0.4em 0.5em 0.4em;box-sizing: border-box;padding-bottom: 0.4em;background-color: white;}#sk-container-id-3 div.sk-label label {font-family: monospace;font-weight: bold;display: inline-block;line-height: 1.2em;}#sk-container-id-3 div.sk-label-container {text-align: center;}#sk-container-id-3 div.sk-container {/* jupyter's `normalize.less` sets `[hidden] { display: none; }` but bootstrap.min.css set `[hidden] { display: none !important; }` so we also need the `!important` here to be able to override the default hidden behavior on the sphinx rendered scikit-learn.org. See: https://github.com/scikit-learn/scikit-learn/issues/21755 */display: inline-block !important;position: relative;}#sk-container-id-3 div.sk-text-repr-fallback {display: none;}</style><div id=\"sk-container-id-3\" class=\"sk-top-container\"><div class=\"sk-text-repr-fallback\"><pre>MultinomialNB()</pre><b>In a Jupyter environment, please rerun this cell to show the HTML representation or trust the notebook. <br />On GitHub, the HTML representation is unable to render, please try loading this page with nbviewer.org.</b></div><div class=\"sk-container\" hidden><div class=\"sk-item\"><div class=\"sk-estimator sk-toggleable\"><input class=\"sk-toggleable__control sk-hidden--visually\" id=\"sk-estimator-id-3\" type=\"checkbox\" checked><label for=\"sk-estimator-id-3\" class=\"sk-toggleable__label sk-toggleable__label-arrow\">MultinomialNB</label><div class=\"sk-toggleable__content\"><pre>MultinomialNB()</pre></div></div></div></div></div>"
            ]
          },
          "metadata": {},
          "execution_count": 37
        }
      ]
    },
    {
      "cell_type": "code",
      "source": [
        "# Function to get answer\n",
        "def get_answer(user_input):\n",
        "  user_input_tfidf = tfidf_vectorizer.transform([user_input])\n",
        "  answer = classifier.predict(user_input_tfidf)[0]\n",
        "\n",
        "  return answer\n",
        "\n",
        "# Test Chatbot\n",
        "user_input = \"Apa fasilitas yang tersedia di Hotel Egma?\"\n",
        "answer = get_answer(user_input)\n",
        "print(\"Jawaban: \", answer)"
      ],
      "metadata": {
        "colab": {
          "base_uri": "https://localhost:8080/"
        },
        "id": "7qaYqNf_i90O",
        "outputId": "f9b69aa0-5b10-4971-b3c4-d51869a5040e"
      },
      "execution_count": 38,
      "outputs": [
        {
          "output_type": "stream",
          "name": "stdout",
          "text": [
            "Jawaban:  Fasilitas yang tersedia di Hotel A termasuk kolam renang, restoran, dan wifi gratis.\n"
          ]
        }
      ]
    },
    {
      "cell_type": "code",
      "source": [
        "from sklearn.model_selection import train_test_split\n",
        "\n",
        "# Pembagian data menjadi data pelatihan dan data validasi\n",
        "X_train, X_validasi, y_train, y_validasi = train_test_split(x, y, test_size=0.2, random_state=42)\n",
        "\n",
        "# Prediksi pada data validasi\n",
        "prediksi_validasi = classifier.predict(X_validasi)\n",
        "\n",
        "# Menghitung jumlah data yang benar\n",
        "jumlah_benar = (y_validasi == prediksi_validasi).sum()\n",
        "\n",
        "# Menghitung total jumlah data\n",
        "total_data = len(y_validasi)\n",
        "\n",
        "# Menampilkan jumlah data yang benar dan total jumlah data\n",
        "print('Jumlah data yang benar: ', jumlah_benar)\n",
        "print('Total data: ', total_data)"
      ],
      "metadata": {
        "colab": {
          "base_uri": "https://localhost:8080/"
        },
        "id": "522mW2gFVp1S",
        "outputId": "d044034c-63b1-4976-da56-b456f6fd7068"
      },
      "execution_count": 39,
      "outputs": [
        {
          "output_type": "stream",
          "name": "stdout",
          "text": [
            "Jumlah data yang benar:  4\n",
            "Total data:  4\n"
          ]
        }
      ]
    }
  ]
}