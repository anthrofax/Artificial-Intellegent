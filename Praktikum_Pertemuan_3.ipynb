{
  "nbformat": 4,
  "nbformat_minor": 0,
  "metadata": {
    "colab": {
      "provenance": [],
      "authorship_tag": "ABX9TyMmDzZNPXj9frbYUaqCUlah",
      "include_colab_link": true
    },
    "kernelspec": {
      "name": "python3",
      "display_name": "Python 3"
    },
    "language_info": {
      "name": "python"
    }
  },
  "cells": [
    {
      "cell_type": "markdown",
      "metadata": {
        "id": "view-in-github",
        "colab_type": "text"
      },
      "source": [
        "<a href=\"https://colab.research.google.com/github/anthrofax/artificial-intelligence/blob/main/Praktikum_Pertemuan_3.ipynb\" target=\"_parent\"><img src=\"https://colab.research.google.com/assets/colab-badge.svg\" alt=\"Open In Colab\"/></a>"
      ]
    },
    {
      "cell_type": "code",
      "execution_count": null,
      "metadata": {
        "id": "FQxEWgJJupHF",
        "colab": {
          "base_uri": "https://localhost:8080/"
        },
        "outputId": "1bd14638-2b98-42f8-d301-ecf52506eadb"
      },
      "outputs": [
        {
          "output_type": "stream",
          "name": "stdout",
          "text": [
            "0\n",
            "[3.393533211, 2.331273381, 0]\n",
            "[3.110073483, 1.781539638, 0]\n",
            "[1.343808831, 3.368360954, 0]\n",
            "[3.582294042, 4.67917911, 0]\n",
            "[2.280362439, 2.866990263, 0]\n",
            "1\n",
            "[7.423436942, 4.696522875, 1]\n",
            "[5.745051997, 3.533989803, 1]\n",
            "[9.172168622, 2.511101045, 1]\n",
            "[7.792783481, 3.424088941, 1]\n",
            "[7.939820817, 0.791637231, 1]\n"
          ]
        }
      ],
      "source": [
        "# Example of seperating data by class value\n",
        "\n",
        "def separate_by_class(dataset):\n",
        "  seperated = dict()\n",
        "\n",
        "  for i in range(len(dataset)):\n",
        "    vector = dataset[i]\n",
        "    class_value = vector[-1]\n",
        "    if(class_value not in seperated):\n",
        "      seperated[class_value] = list()\n",
        "    seperated[class_value].append(vector)\n",
        "  return seperated\n",
        "\n",
        "# Test separating data by class\n",
        "dataset = [[3.393533211,2.331273381,0],\n",
        "[3.110073483,1.781539638,0],\n",
        "[1.343808831,3.368360954,0],\n",
        "[3.582294042,4.67917911,0],\n",
        "[2.280362439,2.866990263,0],\n",
        "[7.423436942,4.696522875,1],\n",
        "[5.745051997,3.533989803,1],\n",
        "[9.172168622,2.511101045,1],\n",
        "[7.792783481,3.424088941,1],\n",
        "[7.939820817,0.791637231,1]]\n",
        "\n",
        "separated = separate_by_class(dataset)\n",
        "for label in separated:\n",
        "  print(label)\n",
        "  for row in separated [label]:\n",
        "    print(row)"
      ]
    },
    {
      "cell_type": "code",
      "source": [
        "#Example of summarizing a dataset\n",
        "from math import sqrt\n",
        "\n",
        "# Calculate the mean of a list of numbers\n",
        "def mean (numbers):\n",
        "  return sum(numbers)/float (len (numbers))\n",
        "\n",
        "#Calculate the standard deviation of a list of numbers\n",
        "def stdev(numbers):\n",
        "  avg = mean (numbers)\n",
        "  variance=sum([(x-avg)**2 for x in numbers])/ float (len(numbers)-1)\n",
        "  return sqrt(variance)\n",
        "\n",
        "# Calculate the mean, stdev and count for each column in a dataset\n",
        "def summarize_dataset (dataset):\n",
        "  # the use of the zip() function that will aggregate elements from each provided argument.\n",
        "  #We pass in the dataset to the zip() function with the operator that separates the dataset (that is a list of lists) #into separate lists for each row.\n",
        "  #The zip() function then iterates over each element of each row and returns a column\n",
        "  #from the dataset as a list of numbers.\n",
        "  summaries = [(mean (column), stdev (column), len(column)) for column in zip(*dataset)]\n",
        "  del(summaries [-1])\n",
        "  return summaries\n",
        "\n",
        "#Test summarizing a dataset\n",
        "dataset = [[3.393533211,2.331273381,0],\n",
        "[3.110073483,1.781539638,0],\n",
        "[1.343808831,3.368360954,0],\n",
        "[3.582294042,4.67917911,0],\n",
        "[2.280362439,2.866990263,0],\n",
        "[7.423436942,4.696522875,1],\n",
        "[5.745051997,3.533989803,1],\n",
        "[9.172168622,2.511101045,1],\n",
        "[7.792783481,3.424088941,1],\n",
        "[7.939820817,0.791637231,1]]\n",
        "summary= summarize_dataset (dataset)\n",
        "print(summary)"
      ],
      "metadata": {
        "colab": {
          "base_uri": "https://localhost:8080/"
        },
        "id": "tVyZqyXdy7uW",
        "outputId": "1d28864c-9af7-4d3e-de17-82021a14149d"
      },
      "execution_count": null,
      "outputs": [
        {
          "output_type": "stream",
          "name": "stdout",
          "text": [
            "[(5.178333386499999, 2.7665845055177263, 10), (2.9984683241, 1.218556343617447, 10)]\n"
          ]
        }
      ]
    },
    {
      "cell_type": "code",
      "source": [],
      "metadata": {
        "id": "4AJz9rkR4Fce"
      },
      "execution_count": null,
      "outputs": []
    },
    {
      "cell_type": "code",
      "source": [
        "#Split dataset by class then calculate statistics for each row\n",
        "def summarize_by_class(dataset):\n",
        "    separated = separate_by_class(dataset)\n",
        "    summaries = dict()\n",
        "    for class_value, rows in separated.items():\n",
        "        summaries[class_value] = summarize_dataset(rows)\n",
        "    return summaries\n",
        "\n",
        "# Test summarizing by class\n",
        "dataset = [[3.393533211,2.331273381,0],\n",
        "[3.110073483,1.781539638,0],\n",
        "[1.343808831,3.368360954,0],\n",
        "[3.582294042,4.67917911,0],\n",
        "[2.280362439,2.866990263,0],\n",
        "[7.423436942,4.696522875,1],\n",
        "[5.745051997,3.533989803,1],\n",
        "[9.172168622,2.511101045,1],\n",
        "[7.792783481,3.424088941,1],\n",
        "[7.939820817,0.791637231,1]]\n",
        "\n",
        "summary = summarize_by_class(dataset)\n",
        "for label in summary:\n",
        "    print(label)\n",
        "    for row in summary [label]:\n",
        "      print(row)"
      ],
      "metadata": {
        "colab": {
          "base_uri": "https://localhost:8080/"
        },
        "id": "lRMqFKO42hg4",
        "outputId": "3ad80125-5d8d-4613-ab67-95d021cedba2"
      },
      "execution_count": null,
      "outputs": [
        {
          "output_type": "stream",
          "name": "stdout",
          "text": [
            "0\n",
            "(2.7420144012, 0.9265683289298018, 5)\n",
            "(3.0054686692, 1.1073295894898725, 5)\n",
            "1\n",
            "(7.6146523718, 1.2344321550313704, 5)\n",
            "(2.9914679790000003, 1.4541931384601618, 5)\n"
          ]
        }
      ]
    }
  ]
}