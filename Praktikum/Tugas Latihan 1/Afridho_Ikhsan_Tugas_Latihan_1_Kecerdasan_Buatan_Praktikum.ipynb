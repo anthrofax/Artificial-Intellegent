{
  "nbformat": 4,
  "nbformat_minor": 0,
  "metadata": {
    "colab": {
      "provenance": []
    },
    "kernelspec": {
      "name": "python3",
      "display_name": "Python 3"
    },
    "language_info": {
      "name": "python"
    }
  },
  "cells": [
    {
      "cell_type": "code",
      "source": [
        "import pandas as pd\n",
        "import numpy as np"
      ],
      "metadata": {
        "id": "zKTpKJEk8Shr"
      },
      "execution_count": 1,
      "outputs": []
    },
    {
      "cell_type": "code",
      "source": [
        "# Membuat DataFrame dengan nama kolom Zahra, Lily, Dito, dan Naufal\n",
        "data_frame = pd.DataFrame(np.random.randint(0, 100, size=(3, 4)), columns=['Zahra', 'Lily', 'Dito', 'Naufal'])"
      ],
      "metadata": {
        "id": "SXTw0pO08UZ1"
      },
      "execution_count": 8,
      "outputs": []
    },
    {
      "cell_type": "code",
      "source": [
        "# Seluruh data dari DataFrame\n",
        "print(\"Seluruh data dari Data Frame:\")\n",
        "print(data_frame)"
      ],
      "metadata": {
        "colab": {
          "base_uri": "https://localhost:8080/"
        },
        "id": "KHGXr19z8WZ2",
        "outputId": "449d21f8-5582-4d70-b773-a870771a3b7f"
      },
      "execution_count": 9,
      "outputs": [
        {
          "output_type": "stream",
          "name": "stdout",
          "text": [
            "Seluruh data dari Data Frame:\n",
            "   Zahra  Lily  Dito  Naufal\n",
            "0     19    55    77      14\n",
            "1     72    93    89      44\n",
            "2     91    73    52       0\n"
          ]
        }
      ]
    },
    {
      "cell_type": "code",
      "source": [
        "# Menampilkan nilai dalam sel baris #1 dari kolom Lily (kelas A), kolom Naufal (kelas B), dan kolom Zahra (kelas C)\n",
        "print(\"Nilai yang ada pada sel baris ke-1:\")\n",
        "print(\"Kelas A (Lily):\", data_frame.loc[1, 'Lily'])\n",
        "print(\"Kelas B (Naufal):\", data_frame.loc[1, 'Naufal'])\n",
        "print(\"Kelas C (Zahra):\", data_frame.loc[1, 'Zahra'])\n",
        "print()"
      ],
      "metadata": {
        "colab": {
          "base_uri": "https://localhost:8080/"
        },
        "id": "rS-gEyEZ8YC1",
        "outputId": "db4300ef-528b-47c2-b751-1526a077ada4"
      },
      "execution_count": 4,
      "outputs": [
        {
          "output_type": "stream",
          "name": "stdout",
          "text": [
            "Nilai dalam sel baris #1:\n",
            "Kelas A (Lily): 55\n",
            "Kelas B (Naufal): 3\n",
            "Kelas C (Zahra): 78\n",
            "\n"
          ]
        }
      ]
    },
    {
      "cell_type": "code",
      "source": [
        "# Membuat kolom kelima bernama Janet yang diisi dengan jumlah baris dari kolom Zahra dan Dito\n",
        "data_frame['Janet'] = data_frame['Zahra'] + data_frame['Dito']"
      ],
      "metadata": {
        "id": "LIxuzkbI8aMD"
      },
      "execution_count": 5,
      "outputs": []
    },
    {
      "cell_type": "code",
      "source": [
        "# Menampilkan DataFrame setelah menambahkan kolom Janet\n",
        "print(\"Data Frame setelah ditambahkan kolom Janet:\")\n",
        "print(data_frame)"
      ],
      "metadata": {
        "colab": {
          "base_uri": "https://localhost:8080/"
        },
        "id": "YUoIY_5a8ctU",
        "outputId": "c623875e-8505-4c22-ede1-535d02778c4f"
      },
      "execution_count": 6,
      "outputs": [
        {
          "output_type": "stream",
          "name": "stdout",
          "text": [
            "DataFrame setelah menambahkan kolom Janet:\n",
            "   Zahra  Lily  Dito  Naufal  Janet\n",
            "0     13    32    87      75    100\n",
            "1     78    55    79       3    157\n",
            "2     61    85    80      52    141\n"
          ]
        }
      ]
    }
  ]
}